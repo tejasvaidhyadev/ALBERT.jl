{
 "cells": [
  {
   "cell_type": "code",
   "execution_count": 1,
   "metadata": {},
   "outputs": [
    {
     "name": "stderr",
     "output_type": "stream",
     "text": [
      "┌ Info: Precompiling TextAnalysis [a2db99b7-8b79-58f8-94bf-bbc811eef33d]\n",
      "└ @ Base loading.jl:1260\n",
      "┌ Warning: Package WordTokenizers does not have GoogleDrive in its dependencies:\n",
      "│ - If you have WordTokenizers checked out for development and have\n",
      "│   added GoogleDrive as a dependency but haven't updated your primary\n",
      "│   environment's manifest file, try `Pkg.resolve()`.\n",
      "│ - Otherwise you may need to report an issue with WordTokenizers\n",
      "└ Loading GoogleDrive into WordTokenizers from project dependency, future warnings for WordTokenizers are suppressed.\n",
      "┌ Warning: Package TextAnalysis does not have Requires in its dependencies:\n",
      "│ - If you have TextAnalysis checked out for development and have\n",
      "│   added Requires as a dependency but haven't updated your primary\n",
      "│   environment's manifest file, try `Pkg.resolve()`.\n",
      "│ - Otherwise you may need to report an issue with TextAnalysis\n",
      "└ Loading Requires into TextAnalysis from project dependency, future warnings for TextAnalysis are suppressed.\n",
      "WARNING: Method definition _pullback(Zygote.Context, typeof(Flux.onehot), Any...) in module Flux at /home/iamtejas/.julia/packages/Zygote/z3bQd/src/lib/grad.jl:8 overwritten in module Basic at /home/iamtejas/.julia/packages/Zygote/z3bQd/src/lib/grad.jl:8.\n",
      "  ** incremental compilation may be fatally broken for this module **\n",
      "\n",
      "WARNING: Method definition _pullback(Zygote.Context, typeof(Flux.onehot), Any...) in module Flux at /home/iamtejas/.julia/packages/Zygote/z3bQd/src/lib/grad.jl:8 overwritten in module Basic at /home/iamtejas/.julia/packages/Zygote/z3bQd/src/lib/grad.jl:8.\n",
      "  ** incremental compilation may be fatally broken for this module **\n",
      "\n",
      "WARNING: Method definition get_activation(Any) in module ALBERT at /home/iamtejas/.julia/dev/TextAnalysis/src/albert/tfckpt2bsonforalbert.jl:147 overwritten at /home/iamtejas/.julia/dev/TextAnalysis/src/albert/pretrain.jl:10.\n",
      "  ** incremental compilation may be fatally broken for this module **\n",
      "\n",
      "WARNING: Method definition _create_classifier() in module ALBERT at /home/iamtejas/.julia/dev/TextAnalysis/src/albert/tfckpt2bsonforalbert.jl:160 overwritten at /home/iamtejas/.julia/dev/TextAnalysis/src/albert/pretrain.jl:22.\n",
      "  ** incremental compilation may be fatally broken for this module **\n",
      "\n",
      "WARNING: Method definition _create_classifier##kw(Any, typeof(TextAnalysis.ALBERT._create_classifier)) in module ALBERT at /home/iamtejas/.julia/dev/TextAnalysis/src/albert/tfckpt2bsonforalbert.jl:160 overwritten at /home/iamtejas/.julia/dev/TextAnalysis/src/albert/pretrain.jl:22.\n",
      "  ** incremental compilation may be fatally broken for this module **\n",
      "\n",
      "WARNING: Method definition (::Type{TextAnalysis.MLE})(Any) in module TextAnalysis at /home/iamtejas/.julia/dev/TextAnalysis/src/LM/langmodel.jl:10 overwritten at /home/iamtejas/.julia/dev/TextAnalysis/src/LM/langmodel.jl:22.\n",
      "  ** incremental compilation may be fatally broken for this module **\n",
      "\n",
      "WARNING: Method definition (::Type{TextAnalysis.Lidstone})(Any, Any) in module TextAnalysis at /home/iamtejas/.julia/dev/TextAnalysis/src/LM/langmodel.jl:32 overwritten at /home/iamtejas/.julia/dev/TextAnalysis/src/LM/langmodel.jl:45.\n",
      "  ** incremental compilation may be fatally broken for this module **\n",
      "\n",
      "WARNING: Method definition (::Type{TextAnalysis.Laplace})(Any, Any) in module TextAnalysis at /home/iamtejas/.julia/dev/TextAnalysis/src/LM/langmodel.jl:62 overwritten at /home/iamtejas/.julia/dev/TextAnalysis/src/LM/langmodel.jl:67.\n",
      "  ** incremental compilation may be fatally broken for this module **\n",
      "\n",
      "WARNING: Method definition (::Type{TextAnalysis.WittenBellInterpolated})(Any) in module TextAnalysis at /home/iamtejas/.julia/dev/TextAnalysis/src/LM/langmodel.jl:131 overwritten at /home/iamtejas/.julia/dev/TextAnalysis/src/LM/langmodel.jl:143.\n",
      "  ** incremental compilation may be fatally broken for this module **\n",
      "\n",
      "WARNING: Method definition (::Type{TextAnalysis.KneserNeyInterpolated})(Any, Any) in module TextAnalysis at /home/iamtejas/.julia/dev/TextAnalysis/src/LM/langmodel.jl:207 overwritten at /home/iamtejas/.julia/dev/TextAnalysis/src/LM/langmodel.jl:220.\n",
      "  ** incremental compilation may be fatally broken for this module **\n",
      "\n",
      "┌ Info: CUDAdrv.jl failed to initialize, GPU functionality unavailable (set JULIA_CUDA_SILENT or JULIA_CUDA_VERBOSE to silence or expand this message)\n",
      "└ @ CUDAdrv /home/iamtejas/.julia/packages/CUDAdrv/aBgcd/src/CUDAdrv.jl:69\n",
      "┌ Warning: The call to compilecache failed to create a usable precompiled cache file for TextAnalysis [a2db99b7-8b79-58f8-94bf-bbc811eef33d]\n",
      "│   exception = ErrorException(\"Required dependency BytePairEncoding [a4280ba5-8788-555a-8ca8-4a8c3d966a71] failed to load from a cache file.\")\n",
      "└ @ Base loading.jl:1041\n",
      "┌ Info: Precompiling WordTokenizers [796a5d58-b03d-544a-977e-18100b691f6e]\n",
      "└ @ Base loading.jl:1260\n",
      "┌ Warning: Package WordTokenizers does not have GoogleDrive in its dependencies:\n",
      "│ - If you have WordTokenizers checked out for development and have\n",
      "│   added GoogleDrive as a dependency but haven't updated your primary\n",
      "│   environment's manifest file, try `Pkg.resolve()`.\n",
      "│ - Otherwise you may need to report an issue with WordTokenizers\n",
      "└ Loading GoogleDrive into WordTokenizers from project dependency, future warnings for WordTokenizers are suppressed.\n",
      "┌ Warning: Package TextAnalysis does not have Requires in its dependencies:\n",
      "│ - If you have TextAnalysis checked out for development and have\n",
      "│   added Requires as a dependency but haven't updated your primary\n",
      "│   environment's manifest file, try `Pkg.resolve()`.\n",
      "│ - Otherwise you may need to report an issue with TextAnalysis\n",
      "│ Loading Requires into TextAnalysis from project dependency, future warnings for TextAnalysis are suppressed.\n",
      "└ @ nothing nothing:909\n",
      "┌ Info: Precompiling Transformers [21ca0261-441d-5938-ace7-c90938fde4d4]\n",
      "└ @ Base loading.jl:1260\n",
      "WARNING: Method definition _pullback(Zygote.Context, typeof(Flux.onehot), Any...) in module Flux at /home/iamtejas/.julia/packages/Zygote/z3bQd/src/lib/grad.jl:8 overwritten in module Basic at /home/iamtejas/.julia/packages/Zygote/z3bQd/src/lib/grad.jl:8.\n",
      "  ** incremental compilation may be fatally broken for this module **\n",
      "\n"
     ]
    }
   ],
   "source": [
    "using TextAnalysis"
   ]
  },
  {
   "cell_type": "code",
   "execution_count": 2,
   "metadata": {},
   "outputs": [],
   "source": [
    "using TextAnalysis.ALBERT"
   ]
  },
  {
   "cell_type": "code",
   "execution_count": 3,
   "metadata": {},
   "outputs": [
    {
     "data": {
      "text/plain": [
       "3-element Array{Any,1}:\n",
       " CompositeEmbedding(tok = Embed(128), segment = Embed(128), pe = PositionEmbedding(128, max_len=512), postprocessor = Positionwise(LayerNorm(128), Dropout(0.1)))\n",
       " TextAnalysis.ALBERT.albert_transformer(Dense(128, 768), TextAnalysis.ALBERT.ALGroup(Stack(Transformer(head=12, head_size=64, pwffn_size=3072, size=768)), Dropout(0.1)), 12, 1, 1)\n",
       " (pooler = Dense(768, 768, tanh), masklm = (transform = Chain(Dense(768, 128, gelu), LayerNorm(128)), output_bias = Float32[-5.345022, 2.1769698, -7.144285, -9.102521, -8.083536, 0.56541324, 1.2000155, 1.4699979, 1.5557922, 1.9452884  …  -0.6403663, -0.9401073, -1.0888876, -0.9298268, -0.64744073, -0.47156653, -0.81416136, -0.87479985, -0.8785063, -0.5505797]), nextsentence = Chain(Dense(768, 2), logsoftmax))"
      ]
     },
     "execution_count": 3,
     "metadata": {},
     "output_type": "execute_result"
    }
   ],
   "source": [
    "using BSON: @save, @load\n",
    "@load \"/home/iamtejas/Downloads/albert_base_v1.bson.tfbson\" config weights vocab\n",
    "transformer = TextAnalysis.ALBERT.load_pretrainedalbert(config, weights)"
   ]
  },
  {
   "cell_type": "code",
   "execution_count": 4,
   "metadata": {},
   "outputs": [],
   "source": [
    "using WordTokenizers"
   ]
  },
  {
   "cell_type": "code",
   "execution_count": 5,
   "metadata": {},
   "outputs": [
    {
     "data": {
      "text/plain": [
       "3-element Array{String,1}:\n",
       " \"God is Great! I won a lottery.\"\n",
       " \"If all their conversations in the three months he had been coming to the diner were put together, it was doubtful that they would make a respectable paragraph.\"\n",
       " \"She had the job she had planned for the last three years.\""
      ]
     },
     "execution_count": 5,
     "metadata": {},
     "output_type": "execute_result"
    }
   ],
   "source": [
    "sample1 = \"God is Great! I won a lottery.\"\n",
    "sample2 = \"If all their conversations in the three months he had been coming to the diner were put together, it was doubtful that they would make a respectable paragraph.\"\n",
    "sample3 = \"She had the job she had planned for the last three years.\"\n",
    "sample = [sample1,sample2,sample3]"
   ]
  },
  {
   "cell_type": "code",
   "execution_count": 6,
   "metadata": {},
   "outputs": [
    {
     "data": {
      "text/plain": [
       "WordTokenizers.Sentencepiecemodel([\"<pad>\", \"<unk>\", \"[CLS]\", \"[SEP]\", \"[MASK]\", \"(\", \")\", \"\\\"\", \"-\", \".\"  …  \"_archivist\", \"_obverse\", \"error\", \"_tyrion\", \"_addictive\", \"_veneto\", \"_colloquial\", \"agog\", \"_deficiencies\", \"_eloquent\"], [0.0, 0.0, 0.0, 0.0, 0.0, 0.0, 0.0, 0.0, 0.0, 0.0  …  -13.5298, -13.5298, -13.5298, -13.5299, -13.5299, -13.53, -13.5313, -13.5318, -13.5323, -13.5323])"
      ]
     },
     "execution_count": 6,
     "metadata": {},
     "output_type": "execute_result"
    }
   ],
   "source": [
    "spm = load(Albert_Version1,\"albert_base_v1_30k-clean.vocab\")"
   ]
  },
  {
   "cell_type": "code",
   "execution_count": 7,
   "metadata": {},
   "outputs": [
    {
     "data": {
      "text/plain": [
       "32×3 Array{Int64,2}:\n",
       "   14     14    14\n",
       "    2      2     2\n",
       " 5649    411   439\n",
       "   26     66    42\n",
       "   14     67    15\n",
       "    2  13528  1206\n",
       "  100     20    40\n",
       "  722     15    42\n",
       "  188    133  2036\n",
       "   14    819    27\n",
       "    2     25    15\n",
       "  231     42   237\n",
       "   22     75   133\n",
       "    ⋮         \n",
       "    1     16     1\n",
       "    1     33     1\n",
       "    1     24     1\n",
       "    1  22569     1\n",
       "    1     31     1\n",
       "    1     60     1\n",
       "    1     84     1\n",
       "    1    234     1\n",
       "    1     22     1\n",
       "    1  22740     1\n",
       "    1  20600     1\n",
       "    1     10     1"
      ]
     },
     "execution_count": 7,
     "metadata": {},
     "output_type": "execute_result"
    }
   ],
   "source": [
    "s1 = ids_from_tokens(spm, tokenizer(spm,sample[1]))\n",
    "s2 = ids_from_tokens(spm, tokenizer(spm,sample[2]))\n",
    "s3 = ids_from_tokens(spm, tokenizer(spm,sample[3]))\n",
    "E = Flux.batchseq([s1,s2,s3],1)\n",
    "E = Flux.stack(E,1)"
   ]
  },
  {
   "cell_type": "code",
   "execution_count": 8,
   "metadata": {},
   "outputs": [
    {
     "data": {
      "text/plain": [
       "32×3 Array{Int64,2}:\n",
       " 1  1  1\n",
       " 1  1  1\n",
       " 1  1  1\n",
       " 1  1  1\n",
       " 1  1  1\n",
       " 1  1  1\n",
       " 1  1  1\n",
       " 1  1  1\n",
       " 1  1  1\n",
       " 1  1  1\n",
       " 1  1  1\n",
       " 1  1  1\n",
       " 1  1  1\n",
       " ⋮     \n",
       " 1  1  1\n",
       " 1  1  1\n",
       " 1  1  1\n",
       " 1  1  1\n",
       " 1  1  1\n",
       " 1  1  1\n",
       " 1  1  1\n",
       " 1  1  1\n",
       " 1  1  1\n",
       " 1  1  1\n",
       " 1  1  1\n",
       " 1  1  1"
      ]
     },
     "execution_count": 8,
     "metadata": {},
     "output_type": "execute_result"
    }
   ],
   "source": [
    "seg_indices = ones(Int, size(E)...)"
   ]
  },
  {
   "cell_type": "code",
   "execution_count": 9,
   "metadata": {},
   "outputs": [
    {
     "data": {
      "text/plain": [
       "128×32×3 Array{Float32,3}:\n",
       "[:, :, 1] =\n",
       "  0.215637     0.974126    0.923233   …  -0.953364   -1.23193    -1.45834\n",
       "  0.382527    -0.440211   -0.493132      -0.450212   -0.497128   -0.664383\n",
       " -1.06308     -0.596149    1.38881       -0.893396   -0.817059   -0.753805\n",
       "  0.0192553   -0.606222   -0.0422194      0.213562    0.366818    0.655723\n",
       " -1.73208     -0.217243    0.329404       0.720658    0.467273    0.371431\n",
       "  1.44428      0.352459   -0.307714   …   0.729       0.681432    0.574053\n",
       " -2.87975      1.02795    -1.55634       -0.0406037  -0.331129   -0.634261\n",
       "  0.888469     2.01966     0.139051      -1.54702    -1.5215     -1.46764\n",
       "  0.423823     0.10119    -1.7348        -1.40969    -0.998497   -0.439296\n",
       "  0.519439     0.50028     1.78553        1.24271     0.801729    0.306854\n",
       " -2.73993     -2.15839    -0.950032   …  -0.726077   -1.00341    -1.15917\n",
       " -0.739749    -0.58749     0.697434       2.10209     1.90288     1.72213\n",
       " -2.06217     -1.16219     1.14314        1.72633     1.4998      1.32549\n",
       "  ⋮                                   ⋱               ⋮          \n",
       " -1.02152     -0.617795   -0.584283      -1.21236    -1.60555    -2.02886\n",
       "  0.590658     0.308233   -2.58624        0.18208    -0.327743   -0.678027\n",
       "  0.565229     0.311107    1.38155       -0.111639    0.160319    0.460262\n",
       "  0.545883    -0.199483   -0.870848      -4.24455    -4.20667    -4.14337\n",
       "  2.15259      0.0522619   1.29933    …  -0.0296104  -0.0392038  -0.0438145\n",
       " -0.433061    -0.985746    0.175664       0.368157    0.616549    0.803371\n",
       "  0.00152145   0.997358    0.50851       -0.440633   -0.85439    -0.964204\n",
       "  2.71532     -0.906451    1.05152       -1.44782    -1.46486    -1.43477\n",
       "  1.82701      1.27142    -0.359613       1.04111     0.849804    0.684699\n",
       " -2.36265     -1.24984     0.74318    …   1.06401     1.02021     1.00714\n",
       " -0.00173678  -1.83543     0.705052      -2.21205    -2.00926    -1.76395\n",
       "  1.65709     -1.17497     1.70831       -1.07015    -1.11008    -0.99317\n",
       "\n",
       "[:, :, 2] =\n",
       "  0.215637     0.974126   -2.42081   …   1.54524    0.237261   -0.911703\n",
       "  0.382527    -0.440211   -0.86025      -0.914859  -0.779649    0.207117\n",
       " -1.06308     -0.596149    2.62228      -1.1039     1.05774    -2.34221\n",
       "  0.0192553   -0.606222    0.414787     -1.73591   -1.3431     -0.440628\n",
       " -1.73208     -0.217243   -0.437847     -0.796834   0.618275    0.38779\n",
       "  1.44428      0.352459    1.23649   …   0.152725   0.955321    0.123936\n",
       " -2.87975      1.02795    -3.16862       1.73907   -2.82513    -0.256108\n",
       "  0.888469     2.01966    -1.2917       -1.07269   -0.537269    0.075918\n",
       "  0.423823     0.10119     2.23237      -1.66915   -1.67471     0.012503\n",
       "  0.519439     0.50028    -0.101554      1.35643    1.18131     0.101195\n",
       " -2.73993     -2.15839    -1.61688   …   0.627917   2.14858    -2.00197\n",
       " -0.739749    -0.58749    -1.4243        0.880429   1.36264     1.42438\n",
       " -2.06217     -1.16219     0.640386      0.935937  -0.365015    2.21704\n",
       "  ⋮                                  ⋱              ⋮          \n",
       " -1.02152     -0.617795   -1.05234      -0.334482  -1.4045      0.210466\n",
       "  0.590658     0.308233    0.821547      1.21049   -1.18044    -1.63386\n",
       "  0.565229     0.311107    1.09554       0.619731  -1.56184     0.857222\n",
       "  0.545883    -0.199483   -0.171578      0.169927   0.552766   -3.30788\n",
       "  2.15259      0.0522619   0.622951  …   1.77554   -2.0677      1.34322\n",
       " -0.433061    -0.985746    0.762181     -1.2847    -0.0238061   0.59986\n",
       "  0.00152145   0.997358   -0.498533      3.38914   -1.50944    -0.203017\n",
       "  2.71532     -0.906451    1.66836      -0.822932  -1.21968    -1.71859\n",
       "  1.82701      1.27142     2.1175        0.95669   -0.652382   -1.59357\n",
       " -2.36265     -1.24984     0.510399  …  -1.01326    0.230851   -0.992337\n",
       " -0.00173678  -1.83543    -1.33135      -0.863463  -0.460078   -2.36823\n",
       "  1.65709     -1.17497    -0.91338      -0.729243  -1.3999      1.49278\n",
       "\n",
       "[:, :, 3] =\n",
       "  0.215637     0.974126   -0.225817   …  -0.953364   -1.23193    -1.45834\n",
       "  0.382527    -0.440211   -1.56297       -0.450212   -0.497128   -0.664383\n",
       " -1.06308     -0.596149    1.76136       -0.893396   -0.817059   -0.753805\n",
       "  0.0192553   -0.606222    0.63075        0.213562    0.366818    0.655723\n",
       " -1.73208     -0.217243   -0.64694        0.720658    0.467273    0.371431\n",
       "  1.44428      0.352459   -1.68997    …   0.729       0.681432    0.574053\n",
       " -2.87975      1.02795    -1.09577       -0.0406037  -0.331129   -0.634261\n",
       "  0.888469     2.01966    -1.05314       -1.54702    -1.5215     -1.46764\n",
       "  0.423823     0.10119    -0.0889101     -1.40969    -0.998497   -0.439296\n",
       "  0.519439     0.50028     1.43852        1.24271     0.801729    0.306854\n",
       " -2.73993     -2.15839    -1.82027    …  -0.726077   -1.00341    -1.15917\n",
       " -0.739749    -0.58749    -0.698298       2.10209     1.90288     1.72213\n",
       " -2.06217     -1.16219    -1.95819        1.72633     1.4998      1.32549\n",
       "  ⋮                                   ⋱               ⋮          \n",
       " -1.02152     -0.617795    1.02958       -1.21236    -1.60555    -2.02886\n",
       "  0.590658     0.308233   -1.30594        0.18208    -0.327743   -0.678027\n",
       "  0.565229     0.311107   -0.594398      -0.111639    0.160319    0.460262\n",
       "  0.545883    -0.199483    0.514127      -4.24455    -4.20667    -4.14337\n",
       "  2.15259      0.0522619   0.0675038  …  -0.0296104  -0.0392038  -0.0438145\n",
       " -0.433061    -0.985746   -0.513366       0.368157    0.616549    0.803371\n",
       "  0.00152145   0.997358    1.42222       -0.440633   -0.85439    -0.964204\n",
       "  2.71532     -0.906451    0.384201      -1.44782    -1.46486    -1.43477\n",
       "  1.82701      1.27142    -1.15566        1.04111     0.849804    0.684699\n",
       " -2.36265     -1.24984    -1.98358    …   1.06401     1.02021     1.00714\n",
       " -0.00173678  -1.83543     0.815664      -2.21205    -2.00926    -1.76395\n",
       "  1.65709     -1.17497     0.843728      -1.07015    -1.11008    -0.99317"
      ]
     },
     "execution_count": 9,
     "metadata": {},
     "output_type": "execute_result"
    }
   ],
   "source": [
    "embedding = transformer[1]\n",
    "emb = embedding(tok=E, segment=seg_indices)"
   ]
  },
  {
   "cell_type": "code",
   "execution_count": 10,
   "metadata": {},
   "outputs": [
    {
     "data": {
      "text/plain": [
       "768×32×3 Array{Float32,3}:\n",
       "[:, :, 1] =\n",
       "  0.304567    0.405941    0.326642   …   0.527699    0.53062     0.535387\n",
       "  0.765856    1.05468     0.581975       0.902422    0.923356    0.910047\n",
       "  0.760675    0.440686    1.81601        0.665885    0.615429    0.596886\n",
       " -0.0437517  -0.464514   -0.133041      -0.0119426   0.0575484   0.0867782\n",
       "  0.438816   -0.0251722   0.686429       0.80559     0.805196    0.780889\n",
       "  0.0296612  -0.685908    0.21051    …  -0.175856   -0.189034   -0.196193\n",
       "  0.646657    1.67699     0.259575       0.684573    0.667937    0.646987\n",
       "  0.267509    1.71205     0.686641       0.999966    1.0456      1.06525\n",
       " -0.0601687  -0.354132   -0.886672      -0.617012   -0.610717   -0.594557\n",
       " -0.364813   -0.159958   -0.996861      -0.187835   -0.205887   -0.215373\n",
       "  0.988467    1.11282     1.00583    …   0.78229     0.908326    0.959077\n",
       "  0.0731863  -0.432719    0.150405       0.585053    0.49542     0.441913\n",
       "  0.15807    -0.490142   -0.405144       0.355488    0.33691     0.322694\n",
       "  ⋮                                  ⋱               ⋮          \n",
       " -0.61483    -0.321608   -0.396901      -0.836611   -0.853394   -0.865005\n",
       " -0.0746915   0.738938    0.832527       0.342028    0.363095    0.365716\n",
       " -0.655902   -1.1607     -1.03446       -0.329239   -0.297827   -0.290003\n",
       " -0.174335   -0.143617   -0.398854      -0.528827   -0.561043   -0.585855\n",
       " -1.07943    -1.33676    -1.64727    …  -0.709648   -0.729482   -0.749425\n",
       " -0.26735     0.51161    -0.178264      -0.526058   -0.522488   -0.503441\n",
       " -0.0936105   0.775895   -0.531953       0.591429    0.477617    0.428794\n",
       " -0.41692    -0.290545   -0.37668       -0.810094   -0.902085   -0.958635\n",
       " -1.44747    -0.655274    0.0473042     -1.65663    -1.70124    -1.72883\n",
       " -0.451427   -1.83576    -0.306356   …  -1.21235    -1.20466    -1.18371\n",
       "  0.624991    0.149222    0.725459       0.518492    0.579501    0.592086\n",
       " -0.440716    0.428943    0.599384      -0.336462   -0.38008    -0.395833\n",
       "\n",
       "[:, :, 2] =\n",
       " -0.09183    -0.131673   -0.0800453  …   0.173828    0.658507    0.701122\n",
       " -0.212849    0.425527    0.468926      -0.0383679  -0.254274   -0.0674611\n",
       " -0.341473   -0.734532    0.511896      -0.411946    0.0223538   0.465937\n",
       " -0.567055   -0.482274   -0.578492      -1.64395    -0.918566   -1.23404\n",
       " -0.0708104  -0.59162     0.669678       0.321576    1.18997     0.353643\n",
       " -0.0727395  -0.0380078   0.356677   …   0.726067    0.455232   -0.426506\n",
       "  1.07172     1.92992     1.11336        0.585416   -1.38213     0.764737\n",
       " -0.0939165   1.50271     0.300908      -0.608412   -0.663113    0.571664\n",
       "  0.934051   -0.303075    0.715795       0.201148    0.378836    0.556202\n",
       "  1.15065     1.58561     1.01433        0.123385    0.436604    0.416501\n",
       "  0.385488    0.836604   -0.429251   …   1.30753    -0.948893    0.815243\n",
       " -0.262729   -1.29692    -0.795957       0.492651    0.310448   -0.779165\n",
       " -0.182217   -0.979907   -0.463309      -0.604354    0.542724   -1.3294\n",
       "  ⋮                                  ⋱               ⋮          \n",
       "  0.313161    0.297878    0.238105      -1.24137    -0.959478   -0.116641\n",
       " -0.212055    0.738047    0.413007       0.364323   -0.160887   -0.25063\n",
       "  0.347592    0.115097   -0.10026       -0.299359   -0.711259   -0.252505\n",
       "  0.0245221  -0.190721    0.824076      -1.36732    -1.30632     0.85736\n",
       "  0.251426   -0.0943026   0.19253    …   0.456811    0.0460289   0.700604\n",
       " -0.792393   -0.963726   -0.707541      -1.5676     -1.30831    -1.06157\n",
       " -0.78274    -0.218586   -0.905263      -0.0916421  -0.39057    -0.315191\n",
       " -0.255523   -0.509181    0.0483524      0.51547    -0.299128   -0.54637\n",
       " -2.5418     -2.05595    -1.71871        0.58241    -0.680839   -3.12875\n",
       "  0.0385001  -0.665508   -0.385825   …  -0.494911   -0.0957252  -0.558129\n",
       "  0.511562    0.140494    0.752053      -0.387508   -0.0610264   0.639027\n",
       " -0.988561   -0.974358   -0.338162      -0.871169   -1.64719    -1.42307\n",
       "\n",
       "[:, :, 3] =\n",
       " -0.464287    0.444703    0.332893   …   0.674975     0.69247     0.707714\n",
       "  1.01715     0.517691    0.078989       0.692509     0.75075     0.755857\n",
       " -0.149221   -0.315486    0.943656       0.896174     0.823444    0.786195\n",
       " -0.775787   -0.575133   -0.768595       0.114394     0.155716    0.157084\n",
       " -0.763795    0.167911    0.860362       0.478681     0.448441    0.438333\n",
       "  0.696022   -1.07504     0.214933   …  -0.923638    -0.924721   -0.921711\n",
       "  0.553646    1.40984     1.25859        0.903849     0.887553    0.890889\n",
       " -0.788586    0.565872   -0.174171       0.592233     0.678486    0.703608\n",
       "  0.917794   -0.290047    0.270431      -0.577756    -0.557005   -0.531713\n",
       "  0.0703508   0.718436    0.524612      -0.106808    -0.161638   -0.198985\n",
       "  1.83724     1.25059     0.441462   …   0.717154     0.842766    0.873928\n",
       " -1.00134    -1.23632    -0.182          0.975941     0.873459    0.825883\n",
       "  0.469249   -0.668738   -0.176839      -0.00468119  -0.0277034  -0.0290249\n",
       "  ⋮                                  ⋱                ⋮          \n",
       " -1.23669    -0.380987   -1.42546       -1.55032     -1.53026    -1.51031\n",
       "  0.208317    0.0787398   0.419125       0.865003     0.916697    0.938971\n",
       " -0.626502   -0.560398   -0.64055       -0.569054    -0.532433   -0.525647\n",
       "  0.374139   -0.852387    0.234086      -0.76758     -0.827931   -0.849001\n",
       " -0.499433   -0.115525   -1.0104     …  -0.357703    -0.374017   -0.408415\n",
       " -0.930513   -0.615282   -1.221         -0.550265    -0.580068   -0.5931\n",
       "  0.812305   -0.594478   -1.84857        0.303941     0.145331    0.0992277\n",
       "  0.103422   -0.172053    0.0998552     -0.925473    -1.03992    -1.10758\n",
       " -1.46715    -1.21069    -0.278395      -1.86522     -1.91097    -1.96085\n",
       " -0.464279   -1.01199     0.0595983  …  -1.23196     -1.19695    -1.17389\n",
       " -0.463837   -0.709276    1.26165       -0.606749    -0.481565   -0.447495\n",
       " -0.407867    0.342045    0.423647      -0.871686    -0.89004    -0.880378"
      ]
     },
     "execution_count": 10,
     "metadata": {},
     "output_type": "execute_result"
    }
   ],
   "source": [
    "contextualised_embedding = transformer[2](emb)"
   ]
  },
  {
   "cell_type": "code",
   "execution_count": 11,
   "metadata": {},
   "outputs": [
    {
     "data": {
      "text/plain": [
       "(pooler = Dense(768, 768, tanh), masklm = (transform = Chain(Dense(768, 128, gelu), LayerNorm(128)), output_bias = Float32[-5.345022, 2.1769698, -7.144285, -9.102521, -8.083536, 0.56541324, 1.2000155, 1.4699979, 1.5557922, 1.9452884  …  -0.6403663, -0.9401073, -1.0888876, -0.9298268, -0.64744073, -0.47156653, -0.81416136, -0.87479985, -0.8785063, -0.5505797]), nextsentence = Chain(Dense(768, 2), logsoftmax))"
      ]
     },
     "execution_count": 11,
     "metadata": {},
     "output_type": "execute_result"
    }
   ],
   "source": [
    "cls = transformer[3]"
   ]
  },
  {
   "cell_type": "code",
   "execution_count": 12,
   "metadata": {},
   "outputs": [
    {
     "data": {
      "text/plain": [
       "768×3 Array{Float32,2}:\n",
       " -0.164622   -0.244687   -0.337835\n",
       " -0.109313   -0.238238    0.0731121\n",
       " -0.922526   -0.99792    -0.46698\n",
       " -0.403019   -0.863416    0.702999\n",
       "  0.439029    0.97862    -0.107664\n",
       " -0.852264   -0.900703   -0.614105\n",
       "  0.364179   -0.373978    0.0256299\n",
       " -0.508897   -0.47372     0.164483\n",
       "  0.536143    0.0399534   0.775943\n",
       "  0.970573    0.768918    0.205684\n",
       "  0.999793    0.998327    0.999979\n",
       "  0.791798   -0.33849     0.438395\n",
       " -0.503646    0.227776    0.245557\n",
       "  ⋮                      \n",
       "  0.757302    0.637661    0.859677\n",
       " -0.819503   -0.998739   -0.814534\n",
       " -0.505278   -0.654982   -0.670874\n",
       " -0.994383    0.0932321  -0.308428\n",
       " -0.6843     -0.984353   -0.602701\n",
       "  0.751023    0.684121    0.818537\n",
       " -0.997563   -0.990052   -0.98816\n",
       " -0.405217   -0.750618   -0.819593\n",
       "  0.53443     0.589601    0.67484\n",
       "  0.973679    0.97328     0.951646\n",
       " -0.880809   -0.918532    0.0197378\n",
       " -0.0609629  -0.814388   -0.487664"
      ]
     },
     "execution_count": 12,
     "metadata": {},
     "output_type": "execute_result"
    }
   ],
   "source": [
    "using Transformers.Basic:@toNd\n",
    "cls.pooler(contextualised_embedding[:,1,:]) #mostly pooler layer is applied on [cls] token"
   ]
  },
  {
   "cell_type": "code",
   "execution_count": 21,
   "metadata": {},
   "outputs": [
    {
     "data": {
      "text/plain": [
       "3-element Array{Array{String,1},1}:\n",
       " [\"_\", \"G\", \"od\", \"_is\", \"_\", \"G\", \"re\", \"at\", \"!\", \"_\", \"I\", \"_won\", \"_a\", \"_lottery\", \".\"]\n",
       " [\"_\", \"I\", \"f\", \"_all\", \"_their\", \"_conversations\", \"_in\", \"_the\", \"_three\", \"_months\"  …  \"_was\", \"_doubtful\", \"_that\", \"_they\", \"_would\", \"_make\", \"_a\", \"_respectable\", \"_paragraph\", \".\"]\n",
       " [\"_\", \"S\", \"he\", \"_had\", \"_the\", \"_job\", \"_she\", \"_had\", \"_planned\", \"_for\", \"_the\", \"_last\", \"_three\", \"_years\", \".\"]"
      ]
     },
     "execution_count": 21,
     "metadata": {},
     "output_type": "execute_result"
    }
   ],
   "source": [
    "s1 =  tokenizer(spm,sample[1])\n",
    "s2 =  tokenizer(spm,sample[2])\n",
    "s3 =  tokenizer(spm,sample[3])\n",
    "s =[s1,s2,s3]"
   ]
  },
  {
   "cell_type": "code",
   "execution_count": 35,
   "metadata": {},
   "outputs": [
    {
     "data": {
      "text/plain": [
       "1×32×3 Array{Float32,3}:\n",
       "[:, :, 1] =\n",
       " 1.0  1.0  1.0  1.0  1.0  1.0  1.0  1.0  …  0.0  0.0  0.0  0.0  0.0  0.0  0.0\n",
       "\n",
       "[:, :, 2] =\n",
       " 1.0  1.0  1.0  1.0  1.0  1.0  1.0  1.0  …  1.0  1.0  1.0  1.0  1.0  1.0  1.0\n",
       "\n",
       "[:, :, 3] =\n",
       " 1.0  1.0  1.0  1.0  1.0  1.0  1.0  1.0  …  0.0  0.0  0.0  0.0  0.0  0.0  0.0"
      ]
     },
     "execution_count": 35,
     "metadata": {},
     "output_type": "execute_result"
    }
   ],
   "source": [
    "using Transformers\n",
    "masks = Transformers.Basic.getmask(s)"
   ]
  },
  {
   "cell_type": "code",
   "execution_count": 23,
   "metadata": {},
   "outputs": [
    {
     "data": {
      "text/plain": [
       "768×32×3 Array{Float32,3}:\n",
       "[:, :, 1] =\n",
       " -0.428328   -0.0777661  -0.221679    …   0.0   0.0   0.0   0.0   0.0   0.0\n",
       " -0.569262    0.571153   -0.281473        0.0   0.0   0.0   0.0   0.0   0.0\n",
       "  0.0193166   0.0451773   2.74292         0.0   0.0   0.0   0.0   0.0   0.0\n",
       " -0.978615   -1.16123    -0.574968       -0.0  -0.0  -0.0  -0.0  -0.0  -0.0\n",
       "  0.201378   -0.735267    0.0164461       0.0   0.0   0.0   0.0   0.0   0.0\n",
       " -0.322908   -0.379362   -0.813322    …  -0.0  -0.0  -0.0  -0.0  -0.0  -0.0\n",
       "  0.660336    2.02064     0.649449        0.0   0.0   0.0   0.0   0.0   0.0\n",
       " -0.91708     0.392511   -0.667269       -0.0  -0.0  -0.0  -0.0  -0.0  -0.0\n",
       " -0.254425   -0.426472   -1.18446        -0.0  -0.0  -0.0  -0.0  -0.0  -0.0\n",
       "  0.617348    1.62654     0.141215        0.0   0.0   0.0   0.0   0.0   0.0\n",
       "  1.55256     2.01011     1.37082     …   0.0   0.0   0.0   0.0   0.0   0.0\n",
       "  0.0662555  -0.670731    0.121412       -0.0  -0.0  -0.0  -0.0  -0.0  -0.0\n",
       "  0.127238   -0.539187   -0.00406911     -0.0  -0.0  -0.0  -0.0  -0.0  -0.0\n",
       "  ⋮                                   ⋱                           ⋮    \n",
       " -0.718619   -0.671933   -0.338205       -0.0  -0.0  -0.0  -0.0  -0.0  -0.0\n",
       " -0.170883    0.413739    0.874195        0.0   0.0   0.0   0.0   0.0   0.0\n",
       " -0.0445368  -0.878869   -0.870303       -0.0  -0.0  -0.0  -0.0  -0.0  -0.0\n",
       " -0.524704   -1.17009    -0.694465       -0.0  -0.0  -0.0  -0.0  -0.0  -0.0\n",
       " -0.057944   -0.264543   -1.03365     …  -0.0  -0.0  -0.0  -0.0  -0.0  -0.0\n",
       " -0.636183   -0.266041   -0.757956       -0.0  -0.0  -0.0  -0.0  -0.0  -0.0\n",
       " -1.06816     0.959581   -1.48805        -0.0  -0.0  -0.0  -0.0  -0.0  -0.0\n",
       " -0.491942   -0.131904   -1.00575        -0.0  -0.0  -0.0  -0.0  -0.0  -0.0\n",
       " -1.96159    -0.728627    0.151455       -0.0  -0.0  -0.0  -0.0  -0.0  -0.0\n",
       " -0.319676   -1.01996     0.214987    …  -0.0  -0.0  -0.0  -0.0  -0.0  -0.0\n",
       "  1.09966    -0.315775    0.314053       -0.0  -0.0  -0.0  -0.0  -0.0  -0.0\n",
       " -1.05864    -0.821646   -0.826332       -0.0  -0.0  -0.0  -0.0  -0.0  -0.0\n",
       "\n",
       "[:, :, 2] =\n",
       " -0.09183    -0.131673   -0.0800453  …   0.173828    0.658507    0.701122\n",
       " -0.212849    0.425527    0.468926      -0.0383679  -0.254274   -0.0674611\n",
       " -0.341473   -0.734532    0.511896      -0.411946    0.0223538   0.465937\n",
       " -0.567055   -0.482274   -0.578492      -1.64395    -0.918566   -1.23404\n",
       " -0.0708104  -0.59162     0.669678       0.321576    1.18997     0.353643\n",
       " -0.0727395  -0.0380078   0.356677   …   0.726067    0.455232   -0.426506\n",
       "  1.07172     1.92992     1.11336        0.585416   -1.38213     0.764737\n",
       " -0.0939165   1.50271     0.300908      -0.608412   -0.663113    0.571664\n",
       "  0.934051   -0.303075    0.715795       0.201148    0.378836    0.556202\n",
       "  1.15065     1.58561     1.01433        0.123385    0.436604    0.416501\n",
       "  0.385488    0.836604   -0.429251   …   1.30753    -0.948893    0.815243\n",
       " -0.262729   -1.29692    -0.795957       0.492651    0.310448   -0.779165\n",
       " -0.182217   -0.979907   -0.463309      -0.604354    0.542724   -1.3294\n",
       "  ⋮                                  ⋱               ⋮          \n",
       "  0.313161    0.297878    0.238105      -1.24137    -0.959478   -0.116641\n",
       " -0.212055    0.738047    0.413007       0.364323   -0.160887   -0.25063\n",
       "  0.347592    0.115097   -0.10026       -0.299359   -0.711259   -0.252505\n",
       "  0.0245221  -0.190721    0.824076      -1.36732    -1.30632     0.85736\n",
       "  0.251426   -0.0943026   0.19253    …   0.456811    0.0460289   0.700604\n",
       " -0.792393   -0.963726   -0.707541      -1.5676     -1.30831    -1.06157\n",
       " -0.78274    -0.218586   -0.905263      -0.0916421  -0.39057    -0.315191\n",
       " -0.255523   -0.509181    0.0483524      0.51547    -0.299128   -0.54637\n",
       " -2.5418     -2.05595    -1.71871        0.58241    -0.680839   -3.12875\n",
       "  0.0385001  -0.665508   -0.385825   …  -0.494911   -0.0957252  -0.558129\n",
       "  0.511562    0.140494    0.752053      -0.387508   -0.0610264   0.639027\n",
       " -0.988561   -0.974358   -0.338162      -0.871169   -1.64719    -1.42307\n",
       "\n",
       "[:, :, 3] =\n",
       " -0.23863    -0.0402696  -0.0582475   …  -0.0  -0.0  -0.0  -0.0  -0.0  -0.0\n",
       "  0.248931    0.745041   -0.224358       -0.0  -0.0  -0.0  -0.0  -0.0  -0.0\n",
       " -0.168032   -0.325815    0.67951        -0.0  -0.0  -0.0  -0.0  -0.0  -0.0\n",
       " -0.219288   -1.1247     -0.909867       -0.0  -0.0  -0.0  -0.0  -0.0  -0.0\n",
       " -0.514198   -0.555745    0.331553       -0.0  -0.0  -0.0  -0.0  -0.0  -0.0\n",
       "  0.0987283  -0.689964    1.09279     …  -0.0  -0.0  -0.0  -0.0  -0.0  -0.0\n",
       " -0.0189531   0.767154    1.22242        -0.0  -0.0  -0.0  -0.0  -0.0  -0.0\n",
       " -0.713311    0.590924   -0.633828       -0.0  -0.0  -0.0  -0.0  -0.0  -0.0\n",
       "  0.73015    -0.564487   -0.392198        0.0   0.0   0.0   0.0   0.0   0.0\n",
       "  0.392737    1.55139     0.370175        0.0   0.0   0.0   0.0   0.0   0.0\n",
       "  0.864051    1.36961     0.488098    …   0.0   0.0   0.0   0.0   0.0   0.0\n",
       " -1.07923    -1.52293    -0.207542        0.0   0.0   0.0   0.0   0.0   0.0\n",
       " -0.171224   -0.519082   -0.619283        0.0   0.0   0.0   0.0   0.0   0.0\n",
       "  ⋮                                   ⋱                           ⋮    \n",
       " -0.159864    0.143103   -0.705577       -0.0  -0.0  -0.0  -0.0  -0.0  -0.0\n",
       " -0.129784    0.464316   -0.00841472      0.0   0.0   0.0   0.0   0.0   0.0\n",
       "  0.108938   -0.525286    0.222788        0.0   0.0   0.0   0.0   0.0   0.0\n",
       "  0.056077   -1.12363    -0.292434       -0.0  -0.0  -0.0  -0.0  -0.0  -0.0\n",
       " -0.0774956  -0.117729    0.0798739   …   0.0   0.0   0.0   0.0   0.0   0.0\n",
       " -0.662674   -0.546186   -1.49554        -0.0  -0.0  -0.0  -0.0  -0.0  -0.0\n",
       " -0.77475    -0.956721   -2.56259        -0.0  -0.0  -0.0  -0.0  -0.0  -0.0\n",
       " -0.055788   -0.634893   -0.197342       -0.0  -0.0  -0.0  -0.0  -0.0  -0.0\n",
       " -1.58012    -1.18332    -0.045383       -0.0  -0.0  -0.0  -0.0  -0.0  -0.0\n",
       " -0.0288196  -0.923488   -0.250819    …   0.0   0.0   0.0   0.0   0.0   0.0\n",
       "  0.492049    0.0397632   0.554722       -0.0  -0.0  -0.0  -0.0  -0.0  -0.0\n",
       " -1.03942    -0.858426   -0.0576648      -0.0  -0.0  -0.0  -0.0  -0.0  -0.0"
      ]
     },
     "execution_count": 23,
     "metadata": {},
     "output_type": "execute_result"
    }
   ],
   "source": [
    "contextualised_embedding = transformer[2](emb, masks)"
   ]
  },
  {
   "cell_type": "code",
   "execution_count": null,
   "metadata": {
    "collapsed": true
   },
   "outputs": [],
   "source": []
  }
 ],
 "metadata": {
  "kernelspec": {
   "display_name": "Julia 1.4.2",
   "language": "julia",
   "name": "julia-1.4"
  },
  "language_info": {
   "file_extension": ".jl",
   "mimetype": "application/julia",
   "name": "julia",
   "version": "1.4.2"
  }
 },
 "nbformat": 4,
 "nbformat_minor": 2
}
