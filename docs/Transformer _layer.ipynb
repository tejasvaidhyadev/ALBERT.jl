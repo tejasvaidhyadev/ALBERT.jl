{
 "cells": [
  {
   "cell_type": "markdown",
   "metadata": {},
   "source": [
    "## ALBERT\n",
    "An upgrade to BERT that advances the state-of-the-art performance on 12 NLP tasks\n",
    " \n",
    "The success of ALBERT demonstrates the importance of identifying the aspects of a model that give rise to powerful contextual representations. By focusing improvement efforts on these aspects of the model architecture, it is possible to greatly improve both the model efficiency and performance on a wide range of NLP tasks\n",
    "\n",
    "## WHY ALBERT?\n",
    "> An ALBERT configuration similar to BERT-large has 18x fewer parameters and can be trained about 1.7x faster.\n",
    "\n",
    "ALBERT is a “lite” version of Google’s 2018 NLU pretraining method BERT. It has fewer parameter than BERT\n",
    "\n",
    "In this notebook we are going to extract contextualised wordembedding by ALBERT and learing about classifer available for pretraining and finetuning"
   ]
  },
  {
   "cell_type": "markdown",
   "metadata": {},
   "source": [
    "## Julia- Flux ALBERT Model\n",
    "It very easy and similar to any of the other Flux layer for training "
   ]
  },
  {
   "cell_type": "code",
   "execution_count": 2,
   "metadata": {},
   "outputs": [],
   "source": [
    "using TextAnalysis"
   ]
  },
  {
   "cell_type": "markdown",
   "metadata": {},
   "source": [
    "~ *ignore all the warning as TextAnalysis is checked out for developement*"
   ]
  },
  {
   "cell_type": "code",
   "execution_count": 3,
   "metadata": {
    "collapsed": true
   },
   "outputs": [],
   "source": [
    "using TextAnalysis.ALBERT # it is where our model reside"
   ]
  },
  {
   "cell_type": "markdown",
   "metadata": {},
   "source": [
    "#### we are going to use DataDeps for handling download of pretrained model of ALBERT\n",
    "- For now we are directly laoding \n",
    "- other pretrained Weights can be found [here](https://drive.google.com/drive/u/1/folders/1HHTlS_jBYRE4cG0elITEH7fAkiNmrEgz)"
   ]
  },
  {
   "cell_type": "code",
   "execution_count": 4,
   "metadata": {},
   "outputs": [
    {
     "data": {
      "text/plain": [
       "3-element Array{Any,1}:\n",
       " CompositeEmbedding(tok = Embed(128), segment = Embed(128), pe = PositionEmbedding(128, max_len=512), postprocessor = Positionwise(LayerNorm(128), Dropout(0.1)))\n",
       " TextAnalysis.ALBERT.albert_transformer(Dense(128, 768), TextAnalysis.ALBERT.ALGroup(Stack(Transformer(head=12, head_size=64, pwffn_size=3072, size=768)), Dropout(0.1)), 12, 1, 1)\n",
       " (pooler = Dense(768, 768, tanh), masklm = (transform = Chain(Dense(768, 128, gelu), LayerNorm(128)), output_bias = Float32[-5.345022, 2.1769698, -7.144285, -9.102521, -8.083536, 0.56541324, 1.2000155, 1.4699979, 1.5557922, 1.9452884  …  -0.6403663, -0.9401073, -1.0888876, -0.9298268, -0.64744073, -0.47156653, -0.81416136, -0.87479985, -0.8785063, -0.5505797]), nextsentence = Chain(Dense(768, 2), logsoftmax))"
      ]
     },
     "execution_count": 4,
     "metadata": {},
     "output_type": "execute_result"
    }
   ],
   "source": [
    "using BSON: @save, @load\n",
    "@load \"/home/iamtejas/Downloads/albert_base_v1.bson.tfbson\" config weights vocab\n",
    "transformer = TextAnalysis.ALBERT.load_pretrainedalbert(config, weights)"
   ]
  },
  {
   "cell_type": "markdown",
   "metadata": {},
   "source": [
    "#### Todo \n",
    "better output repesentation"
   ]
  },
  {
   "cell_type": "code",
   "execution_count": 5,
   "metadata": {
    "collapsed": true
   },
   "outputs": [],
   "source": [
    "using WordTokenizers #we have albert_tokenizer residing in WordTokenizer "
   ]
  },
  {
   "cell_type": "markdown",
   "metadata": {},
   "source": [
    "For demo we are taking only 3 sentence"
   ]
  },
  {
   "cell_type": "code",
   "execution_count": 6,
   "metadata": {},
   "outputs": [
    {
     "data": {
      "text/plain": [
       "3-element Array{String,1}:\n",
       " \"God is Great! I won a lottery.\"\n",
       " \"If all their conversations in the three months he had been coming to the diner were put together, it was doubtful that they would make a respectable paragraph.\"\n",
       " \"She had the job she had planned for the last three years.\""
      ]
     },
     "execution_count": 6,
     "metadata": {},
     "output_type": "execute_result"
    }
   ],
   "source": [
    "sample1 = \"God is Great! I won a lottery.\"\n",
    "sample2 = \"If all their conversations in the three months he had been coming to the diner were put together, it was doubtful that they would make a respectable paragraph.\"\n",
    "sample3 = \"She had the job she had planned for the last three years.\"\n",
    "sample = [sample1,sample2,sample3]"
   ]
  },
  {
   "cell_type": "markdown",
   "metadata": {},
   "source": [
    "#### loading of tokenizer form all the available  since we are using base_V1 "
   ]
  },
  {
   "cell_type": "code",
   "execution_count": 7,
   "metadata": {},
   "outputs": [
    {
     "data": {
      "text/plain": [
       "WordTokenizers.SentencePieceModel([\"<pad>\", \"<unk>\", \"[CLS]\", \"[SEP]\", \"[MASK]\", \"(\", \")\", \"\\\"\", \"-\", \".\"  …  \"_archivist\", \"_obverse\", \"error\", \"_tyrion\", \"_addictive\", \"_veneto\", \"_colloquial\", \"agog\", \"_deficiencies\", \"_eloquent\"], [0.0, 0.0, 0.0, 0.0, 0.0, 0.0, 0.0, 0.0, 0.0, 0.0  …  -13.5298, -13.5298, -13.5298, -13.5299, -13.5299, -13.53, -13.5313, -13.5318, -13.5323, -13.5323], 2)"
      ]
     },
     "execution_count": 7,
     "metadata": {},
     "output_type": "execute_result"
    }
   ],
   "source": [
    "spm = load(ALBERT_V1)"
   ]
  },
  {
   "cell_type": "markdown",
   "metadata": {},
   "source": [
    "### Preprocessing"
   ]
  },
  {
   "cell_type": "code",
   "execution_count": null,
   "metadata": {
    "collapsed": true
   },
   "outputs": [],
   "source": [
    "s1 = ids_from_tokens(spm, tokenizer(spm,sample[1]))\n",
    "s2 = ids_from_tokens(spm, tokenizer(spm,sample[2]))\n",
    "s3 = ids_from_tokens(spm, tokenizer(spm,sample[3]))\n",
    "E = Flux.batchseq([s1,s2,s3],1)\n",
    "E = Flux.stack(E,1)"
   ]
  },
  {
   "cell_type": "code",
   "execution_count": null,
   "metadata": {
    "collapsed": true
   },
   "outputs": [],
   "source": [
    "seg_indices = ones(Int, size(E)...)"
   ]
  },
  {
   "cell_type": "markdown",
   "metadata": {},
   "source": [
    "We know input embedding requires both segment and token indices\n",
    "\n",
    "the `embedding` itself handle position and addtion operation"
   ]
  },
  {
   "cell_type": "code",
   "execution_count": null,
   "metadata": {
    "collapsed": true
   },
   "outputs": [],
   "source": [
    "embedding = transformer[1]\n",
    "emb = embedding(tok=E, segment=seg_indices)"
   ]
  },
  {
   "cell_type": "markdown",
   "metadata": {},
   "source": [
    "**Above we have embedding corresponding to input indices**\n",
    "\n",
    "*lets pass the embedding through AlbertTranformer to get contextualised_embedding*"
   ]
  },
  {
   "cell_type": "markdown",
   "metadata": {},
   "source": [
    "#### voilà we got Contextualised embedding"
   ]
  },
  {
   "cell_type": "code",
   "execution_count": null,
   "metadata": {
    "collapsed": true
   },
   "outputs": [],
   "source": [
    "contextualised_embedding = transformer[2](emb)"
   ]
  },
  {
   "cell_type": "code",
   "execution_count": null,
   "metadata": {
    "collapsed": true
   },
   "outputs": [],
   "source": [
    "cls = transformer[3][1] #pooler layer \n"
   ]
  },
  {
   "cell_type": "code",
   "execution_count": null,
   "metadata": {
    "collapsed": true
   },
   "outputs": [],
   "source": [
    "cls = transformer[3][2] #for mlm  tasked"
   ]
  },
  {
   "cell_type": "code",
   "execution_count": null,
   "metadata": {
    "collapsed": true
   },
   "outputs": [],
   "source": [
    "cls = transformer[3][3] #for Sentence order prediction"
   ]
  },
  {
   "cell_type": "code",
   "execution_count": null,
   "metadata": {
    "collapsed": true
   },
   "outputs": [],
   "source": [
    "using Transformers.Basic:@toNd\n",
    "transformer[3].pooler(contextualised_embedding[:,1,:]) #mostly pooler layer is applied on [cls] token"
   ]
  },
  {
   "cell_type": "markdown",
   "metadata": {},
   "source": [
    "Lets see our tokenized sentence"
   ]
  },
  {
   "cell_type": "code",
   "execution_count": null,
   "metadata": {
    "collapsed": true
   },
   "outputs": [],
   "source": [
    "s1 =  tokenizer(spm,sample[1])\n",
    "s2 =  tokenizer(spm,sample[2])\n",
    "s3 =  tokenizer(spm,sample[3])\n",
    "s =[s1,s2,s3]"
   ]
  },
  {
   "cell_type": "code",
   "execution_count": null,
   "metadata": {
    "collapsed": true
   },
   "outputs": [],
   "source": [
    "using Transformers\n",
    "masks = Transformers.Basic.getmask(s) # we can directly use getmask function of Transformers"
   ]
  },
  {
   "cell_type": "code",
   "execution_count": null,
   "metadata": {
    "collapsed": true
   },
   "outputs": [],
   "source": [
    "contextualised_embedding = transformer[2](emb, masks) #contextualised_embedding with masks"
   ]
  },
  {
   "cell_type": "markdown",
   "metadata": {
    "collapsed": true
   },
   "source": [
    "### Wait\n",
    "It is just like an other Flux layers/ Structure means we can easily train it !"
   ]
  },
  {
   "cell_type": "code",
   "execution_count": 8,
   "metadata": {},
   "outputs": [
    {
     "data": {
      "text/plain": [
       "Params([Float32[1.4228282, 1.3738428, 1.4611361, 1.4545419, 1.362615, 1.4506888, 1.378717, 1.5180601, 1.4845772, 1.3975797  …  1.4648936, 1.0347399, 1.3678652, 1.4229372, 1.4521085, 1.5046557, 1.5158035, 1.4426574, 1.4960195, 1.3573524], Float32[-0.053622514, -0.16088338, 0.22308606, 0.048916165, -0.0039820396, 0.099344134, -0.0748515, 0.039203927, 0.12206718, 0.05795675  …  -0.27271414, 0.8688461, -0.04732636, -0.18536331, -0.16637102, 0.1740389, -0.294258, -0.13245566, -0.00337506, -0.345267], Float32[-0.051017728 0.086519726 … -0.11926416 0.07093989; -0.056381047 0.022605542 … -0.11318762 -0.11180934; … ; -0.1064435 -0.05314829 … 0.087794125 0.1817395; -0.063876376 -0.0543424 … 0.22770554 -0.03343155], Float32[0.0027943964 -0.0062411674; -0.01266096 0.017194653; … ; 0.0003534697 0.0020992558; 0.044360843 -0.0007803185], Float32[-0.027650086 0.004228708 … -0.022506572 -0.05371121; -0.058056954 -0.009886336 … -0.007817211 0.05937399; … ; -0.061029218 -0.050291896 … 0.047393326 0.080278724; 0.00067498547 -0.031160265 … -0.067646295 -0.17033984], Float32[-0.02763474 0.06171614 … -0.06946765 0.052770674; -0.0069716414 0.07572139 … 0.023323966 -0.0075935223; … ; -0.058513153 0.040454373 … 0.010056733 -0.006323604; 0.041100588 0.03806929 … 0.019924467 -0.015943302], Float32[-0.14952344, 0.16533042, -0.2101735, -0.04594988, 0.23513977, -0.068325184, -0.012892563, 0.087248124, 0.040170096, 0.25634593  …  -0.0183876, 0.08122287, -0.07749175, -0.08307301, 0.19914186, -0.011005787, 0.259376, 0.04787546, -0.007221762, 0.17180045], Float32[-0.015541519 -0.040830243 … -0.0077291154 0.040761676; -0.0063388054 0.047942817 … -0.015170522 0.017620556; … ; 0.09501812 -0.078597255 … -0.044319842 0.020874618; 0.011273312 0.044222906 … 0.024886178 0.049045883], Float32[-0.012893528, -0.042182963, 0.08626874, -1.2130626, -0.37122118, 0.38116136, 0.09824966, -0.1516113, 0.19198471, -0.20457509  …  0.29980165, -0.12774986, -0.11536464, 0.38857827, 0.096464284, -0.6301059, -0.02738171, -0.17149079, 0.48313934, 0.07648202], Float32[-0.062012766 -0.0038790156 … -0.013586831 -0.05443526; -0.03617773 -0.06059524 … 0.013859719 0.036572225; … ; 0.05103405 0.023533288 … -0.025796792 -0.044482462; -0.045234073 0.026275402 … 0.02872855 0.02600806], Float32[-0.55470765, 0.2635302, -0.22981001, -0.35598248, -0.6882087, 0.1314481, 0.4750412, -0.20286554, 0.36496747, 0.08039843  …  0.07559351, 0.13412842, -0.3392635, -0.1114853, 0.24200334, 0.024432966, 0.2565072, -0.30036825, 0.02098731, 0.13001953], Float32[0.0073378617 0.014102026 … 0.05130136 0.05354844; 0.043158643 0.010668716 … 0.036385715 0.05625187; … ; -0.04241124 0.024859397 … 0.00043820313 0.054751452; -0.15118377 -0.041334566 … -0.053102855 -0.008044204], Float32[-0.06423594, -0.06581749, -0.053180527, -0.016467236, -0.05628329, 0.048142936, -0.048853435, 0.010226046, 0.0068836655, 0.0037812085  …  -0.022471834, -0.06257648, -0.057152558, -0.08077025, -0.021834247, 0.036149558, -0.08861526, -0.08393449, -0.05538553, -0.012941372], Float32[0.057780296 -0.06299273 … -0.0031617403 0.045156226; 0.015923511 -0.065165 … 0.062196046 0.07028379; … ; 0.0072812764 0.03835821 … -0.036383778 0.094710544; -0.0105332015 -0.0017958063 … -0.08351556 0.08560134], Float32[-0.096343465, 0.047691695, 0.040329278, 0.052683406, -0.06760634, 0.035319563, 0.06344245, 0.0236313, -0.018780394, 0.088613056  …  0.009888015, -0.08970711, 0.012949983, 0.013905061, -0.0061980337, 0.09738326, -0.04150353, 0.14649425, 0.045280404, -0.033034664], Float32[0.5328006, 0.592023, 0.75605094, 0.7033415, 0.5889806, 0.71082014, 0.6810446, 0.64183426, 0.60005605, 0.53903514  …  0.75633764, 0.71564883, 0.5630059, 0.58312756, 0.7922718, 0.5806809, 0.80658364, 0.6468443, 0.6646046, 0.6359836], Float32[-0.0051945574, -0.02807719, 0.04571535, -0.019613288, 0.027921112, -0.090160616, 0.010318609, 0.0076556173, 0.05001609, 0.044297367  …  0.05905909, -0.03741357, -0.029315917, -0.027294774, 0.11878953, -0.016295554, 0.019110713, 0.027869994, -0.04762518, -0.0034988567], Float32[0.06863134 -0.0643824 … -0.03783059 0.025742829; -0.0389544 -0.028703514 … 0.038237378 -0.034218177; … ; 0.022287473 -0.11799408 … 0.045260143 0.020802613; -0.021115236 -0.0007448066 … 0.0503633 0.024318503], Float32[-0.2780281, -0.13797009, 0.12554154, 0.0712129, 0.12978739, -0.2967079, -0.07025385, -0.30991563, -0.17584197, 0.09694058  …  0.17783846, -0.11816767, -0.09382434, -0.102314524, -0.037760105, -0.005960665, -0.24526832, 0.24916978, -0.18387622, -0.621726], Float32[-0.016856294 0.026972152 … 0.016366126 0.05188403; 0.0555499 -0.019615026 … 0.0667124 0.007247157; … ; 0.0032954449 0.007028783 … 0.037165944 -0.03341696; 0.059301525 0.021443704 … 0.022085855 0.04806439], Float32[0.13354924, -0.065206915, 0.1356805, 0.06264471, -0.08415001, -0.012828431, 0.1537846, 0.050802343, -0.084149, 0.18080558  …  0.0505975, -0.16209385, -0.06986705, -0.12173515, -0.005052082, 0.21664703, 0.11252434, 0.016340183, -0.17727618, 0.112120256], Float32[0.81200194, 0.8466851, 0.8926652, 0.8863681, 0.77376986, 0.8258225, 0.9532571, 0.9124772, 0.84209985, 0.78845024  …  0.84126425, 0.8627402, 0.80095136, 0.8296966, 0.89858323, 0.86364573, 0.86447245, 0.8235725, 0.88896865, 0.8741806], Float32[-0.023961732, -0.046634357, -0.0143565945, -0.006937244, -0.038529433, 0.05300232, -0.05633876, -0.07111825, -0.06697029, -0.017047023  …  -0.07388534, 0.007005827, 0.02576593, -0.028130839, -0.06284993, -0.0070077395, -0.028038977, -0.02892837, 0.062209304, -0.06736273], Float32[0.025437102 0.0064323233 … -0.0037462313 0.02546577; -0.0028480298 -0.024373451 … -0.03299369 0.0071955877; … ; -0.06819669 -0.02772355 … 0.012815827 -0.003786622; 0.00038827205 -0.009547479 … -0.03671143 0.022545092], Float32[-0.029056959, -0.015764097, -0.3193157, -0.052037634, -0.0068009645, -0.14643799, 0.040107176, -0.005595347, 0.016801842, -0.19551551  …  -0.0131766, -0.025098212, -0.24818766, 0.01688845, -0.06429409, -0.04713422, 0.013679432, 0.09079702, -0.109263085, -0.00039715314], Float32[-0.031208588 0.0091013815 … -0.00684734 -0.026423937; 0.028685097 -0.01848697 … 0.023392398 -0.04492154; … ; 0.0026264421 -0.037468694 … 0.051623445 -0.08754498; 0.004305736 0.013284024 … -0.010517346 -0.03307538], Float32[0.5673871, 0.5173458, 0.10752545, 0.3155134, 0.31712934, 0.47738948, 0.25802857, 0.5325181, 0.4967766, 0.21005148  …  0.48921984, 0.31953004, 0.44065377, 0.3762529, 0.35104525, 0.5068734, 0.46040258, 0.1726858, 0.18739718, 0.5938985], Float32[4.8125944, 4.4954085, 4.502573, 4.2537217, 3.9418182, 4.7133255, 3.674857, 4.635417, 4.365962, 4.603444  …  4.4542103, 4.589312, 4.430569, 3.6093228, 4.211171, 4.285142, 4.370338, 4.2291827, 4.6284213, 4.399151], Float32[1.4715962, 0.9182028, -2.7345228, -2.2219348, -2.1531718, 1.349703, -2.5489144, 1.511412, 1.9419745, -2.2967346  …  1.2422282, 1.2655686, 1.3246479, -2.4911828, -1.340733, 1.3877705, 1.5082483, -2.0916762, -2.2163546, 1.49516], Float32[-5.345022, 2.1769698, -7.144285, -9.102521, -8.083536, 0.56541324, 1.2000155, 1.4699979, 1.5557922, 1.9452884  …  -0.6403663, -0.9401073, -1.0888876, -0.9298268, -0.64744073, -0.47156653, -0.81416136, -0.87479985, -0.8785063, -0.5505797], Float32[0.002305334 -0.016102044 … -0.0335534 0.0028744815; 0.0025165232 -0.015944447 … 0.023191692 0.002694243], Float32[-0.020070702, 0.039414737]])"
      ]
     },
     "execution_count": 8,
     "metadata": {},
     "output_type": "execute_result"
    }
   ],
   "source": [
    "using Flux: params\n",
    "params(transformer) #parameters can be updated easily "
   ]
  },
  {
   "cell_type": "markdown",
   "metadata": {},
   "source": [
    "Lets take some datasets present in Transformers"
   ]
  },
  {
   "cell_type": "code",
   "execution_count": 9,
   "metadata": {},
   "outputs": [
    {
     "data": {
      "text/plain": [
       "3-element Array{Array{String,1},1}:\n",
       " [\"When did the third Digimon series begin?\", \"Which missile batteries often have individual launchers several kilometres from one another?\", \"What two things does Popper argue Tarski's theory involves in an evaluation of truth?\", \"What is the name of the village 9 miles north of Calafat where the Ottoman forces attacked the Russians?\", \"What famous palace is located in London?\", \"When is the term 'German dialects' used in regard to the German language?\", \"What was the name of the island the English traded to the Dutch in return for New Amsterdam?\", \"How were the Portuguese expelled from Myanmar?\", \"What does the word 'customer' properly apply to?\", \"What did Arsenal consider the yellow and blue colors to be after losing a FA Cup final wearing red and white?\"  …  \"Which of Calatrava's creations contains an IMAX theater?\", \"What is Seattle's average December temperature?\", \"Bell learned to accurately read lips even without knowing what?\", \"What is Oklahoma's largest school district?\", \"What is a name for the reduced complement of genetic material necessary for an organism to live?\", \"In what year was the Mananga Management Centre founded?\", \"What rank provided its holder territorial rule?\", \"What happened to Hornswoggle?\", \"What percentage of Mexico City's population was indigenous in 1921?\", \"In what year did a French magazine describe the use of asphalt?\"]\n",
       " [\"Unlike the two seasons before it and most of the seasons that followed, Digimon Tamers takes a darker and more realistic approach to its story featuring Digimon who do not reincarnate after their deaths and more complex character development in the original Japanese.\", \"When MANPADS is operated by specialists, batteries may have several dozen teams deploying separately in small sections; self-propelled air defence guns may deploy in pairs.\", \"He bases this interpretation on the fact that examples such as the one described above refer to two things: assertions and the facts to which they refer.\", \"On 31 December 1853, the Ottoman forces at Calafat moved against the Russian force at Chetatea or Cetate, a small village nine miles north of Calafat, and engaged them on 6 January 1854.\", \"London contains four World Heritage Sites: the Tower of London; Kew Gardens; the site comprising the Palace of Westminster, Westminster Abbey, and St Margaret's Church; and the historic settlement of Greenwich (in which the Royal Observatory, Greenwich marks the Prime Meridian, 0° longitude, and GMT).\", \"When talking about the German language, the term German dialects is only used for the traditional regional varieties.\", \"At the end of the Second Anglo-Dutch War, the English gained New Amsterdam (New York) in North America in exchange for Dutch control of Run, an Indonesian island.\", \"From the 1720s onward, the kingdom was beset with repeated Meithei raids into Upper Myanmar and a nagging rebellion in Lan Na.\", \"The bill also required rotation of principal maintenance inspectors and stipulated that the word \\\"customer\\\" properly applies to the flying public, not those entities regulated by the FAA.\", \"Arsenal then competed in three consecutive FA Cup finals between 1978 and 1980 wearing their \\\"lucky\\\" yellow and blue strip, which remained the club's away strip until the release of a green and navy away kit in 1982–83.\"  …  \"i les Ciències), which contains an opera house/performing arts centre, a science museum, an IMAX cinema/planetarium, an oceanographic park and other structures such as a long covered walkway and restaurants.\", \"Winters are cool and wet with December, the coolest month, averaging 40.6 °F (4.8 °C), with 28 annual days with lows that reach the freezing mark, and 2.0 days where the temperature stays at or below freezing all day; the temperature rarely lowers to 20 °F (−7 °C).\", \"In this treatise, his father explains his methods of how to instruct deaf-mutes (as they were then known) to articulate words and read other people's lip movements to decipher meaning.\", \"Oklahoma City is home to the state's largest school district, Oklahoma City Public Schools.\", \"There is experimental work being done on minimal genomes for single cell organisms as well as minimal genomes for multi-cellular organisms (see Developmental biology).\", \"The Mananga management centre was established as Mananga Agricultural Management Centre in 1972 as an International Management Development Centre catering for middle and senior managers, it is located at Ezulwini.\", \"Each successive rank gave its holder greater pensions and legal privileges.\", \"Dave Finlay was often aided in his matches by a midget known mainly as Hornswoggle while in WWE, who hid under the ring and gave a shillelagh to Finlay to use on his opponent.\", \"In 1921, Mexico City had less than one million inhabitants.\", \"One hundred years after the fall of Constantinople in 1453, Pierre Belon described in his work Observations in 1553 that pissasphalto, a mixture of pitch and bitumen, was used in Dubrovnik for tarring of ships from where it was exported to a market place in Venice where it could be bought by anyone.\"]\n",
       " [\"not_entailment\", \"not_entailment\", \"entailment\", \"entailment\", \"not_entailment\", \"entailment\", \"entailment\", \"not_entailment\", \"entailment\", \"entailment\"  …  \"not_entailment\", \"entailment\", \"not_entailment\", \"entailment\", \"entailment\", \"entailment\", \"not_entailment\", \"not_entailment\", \"not_entailment\", \"not_entailment\"]"
      ]
     },
     "execution_count": 9,
     "metadata": {},
     "output_type": "execute_result"
    }
   ],
   "source": [
    "using Transformers.Datasets\n",
    "using Transformers.Datasets.GLUE\n",
    "\n",
    "task = GLUE.QNLI()\n",
    "datas = dataset(Train, task)\n",
    "training_batch=get_batch(datas, 100) #here 100 correspond to no. of sentence for train we output"
   ]
  },
  {
   "cell_type": "code",
   "execution_count": null,
   "metadata": {
    "collapsed": true
   },
   "outputs": [],
   "source": [
    "training_batch[1]"
   ]
  },
  {
   "cell_type": "code",
   "execution_count": 10,
   "metadata": {},
   "outputs": [
    {
     "data": {
      "text/plain": [
       "preprocess (generic function with 1 method)"
      ]
     },
     "execution_count": 10,
     "metadata": {},
     "output_type": "execute_result"
    }
   ],
   "source": [
    "using Flux: onehotbatch\n",
    "makesentence(s1, s2) = [\"[CLS]\"; s1; \"[SEP]\"; s2; \"[SEP]\"]\n",
    "function preprocess(training_batch)\n",
    "ids =[]\n",
    "sent = []\n",
    "for i in length(training_batch[1])\n",
    "    sent1 = tokenizer(spm,training_batch[1][i])\n",
    "    sent2 = tokenizer(spm,training_batch[2][i])\n",
    "    id = makesentence(sent1,sent2)\n",
    "    push!(sent, id)\n",
    "    push!(ids,ids_from_tokens(spm,id))\n",
    "end\n",
    "E = Flux.batchseq(ids,1)\n",
    "E = Flux.stack(E,1)\n",
    "segment = fill!(similar(E), 1)\n",
    "    for (i, sent) ∈ enumerate(sent)\n",
    "      j = findfirst(isequal(\"[SEP]\"), sent)\n",
    "      if j !== nothing\n",
    "        @view(segment[j+1:end, i]) .= 2\n",
    "      end\n",
    "end\n",
    "segment\n",
    "data = (tok = E,segment = segment)\n",
    "labels = get_labels(task)\n",
    "label = onehotbatch(training_batch[3], labels)\n",
    "return(data,label)\n",
    "end"
   ]
  },
  {
   "cell_type": "code",
   "execution_count": null,
   "metadata": {
    "collapsed": true
   },
   "outputs": [],
   "source": [
    "training_batch[3][1:100]"
   ]
  },
  {
   "cell_type": "code",
   "execution_count": null,
   "metadata": {
    "collapsed": true
   },
   "outputs": [],
   "source": []
  },
  {
   "cell_type": "code",
   "execution_count": null,
   "metadata": {
    "collapsed": true
   },
   "outputs": [],
   "source": []
  },
  {
   "cell_type": "code",
   "execution_count": 11,
   "metadata": {
    "collapsed": true
   },
   "outputs": [],
   "source": [
    "using Transformers.Basic"
   ]
  },
  {
   "cell_type": "code",
   "execution_count": null,
   "metadata": {
    "collapsed": true
   },
   "outputs": [],
   "source": [
    "lo"
   ]
  },
  {
   "cell_type": "code",
   "execution_count": 12,
   "metadata": {},
   "outputs": [
    {
     "data": {
      "text/plain": [
       "2×25 Flux.OneHotMatrix{Array{Flux.OneHotVector,1}}:\n",
       " 0  0  0  1  0  0  0  1  0  0  0  1  0  1  0  0  1  0  0  1  1  0  1  0  0\n",
       " 1  1  1  0  1  1  1  0  1  1  1  0  1  0  1  1  0  1  1  0  0  1  0  1  1"
      ]
     },
     "execution_count": 12,
     "metadata": {},
     "output_type": "execute_result"
    }
   ],
   "source": [
    "using Flux: onehotbatch\n",
    "labels = get_labels(task)\n",
    "label = onehotbatch(training_batch[3][11:35], labels)\n"
   ]
  },
  {
   "cell_type": "code",
   "execution_count": 13,
   "metadata": {},
   "outputs": [
    {
     "data": {
      "text/plain": [
       "loss (generic function with 2 methods)"
      ]
     },
     "execution_count": 13,
     "metadata": {},
     "output_type": "execute_result"
    }
   ],
   "source": [
    "using Flux\n",
    "using Flux: gradient\n",
    "import Flux.Optimise: update!\n",
    "\n",
    "clf = Flux.Chain(\n",
    "    Flux.Dropout(0.1),\n",
    "    Flux.Dense(768, length(labels)), Flux.logsoftmax\n",
    ")\n",
    "\n",
    "ps = params(transformer)\n",
    "opt = ADAM(1e-4)\n",
    "#define the loss\n",
    "function loss(data, label, mask=nothing)\n",
    "    e = transformer[1](data)\n",
    "    t = transformer[2](e)\n",
    "    l = logcrossentropy( label,\n",
    "         clf(\n",
    "            transformer[3].pooler(\n",
    "                t[:,1,:]\n",
    "            )\n",
    "        )\n",
    "    )\n",
    "    return l\n",
    "end"
   ]
  },
  {
   "cell_type": "code",
   "execution_count": 14,
   "metadata": {},
   "outputs": [
    {
     "data": {
      "text/plain": [
       "CompositeEmbedding(tok = Embed(128), segment = Embed(128), pe = PositionEmbedding(128, max_len=512), postprocessor = Positionwise(LayerNorm(128), Dropout(0.1)))"
      ]
     },
     "execution_count": 14,
     "metadata": {},
     "output_type": "execute_result"
    }
   ],
   "source": [
    "transformer[1]"
   ]
  },
  {
   "cell_type": "code",
   "execution_count": 15,
   "metadata": {},
   "outputs": [
    {
     "data": {
      "text/plain": [
       "Chain(Dropout(0.1), Dense(768, 2), logsoftmax)"
      ]
     },
     "execution_count": 15,
     "metadata": {},
     "output_type": "execute_result"
    }
   ],
   "source": [
    "clf1 = Flux.Chain(\n",
    "    Flux.Dropout(0.1),\n",
    "    Flux.Dense(768, length(labels)), Flux.logsoftmax\n",
    ")\n",
    "clf2 = Flux.Chain(\n",
    "    Flux.Dropout(0.1),\n",
    "    Flux.Dense(768, length(labels)), Flux.logsoftmax\n",
    ")"
   ]
  },
  {
   "cell_type": "markdown",
   "metadata": {},
   "source": [
    "you can see batch inputs and loss below"
   ]
  },
  {
   "cell_type": "code",
   "execution_count": 17,
   "metadata": {},
   "outputs": [
    {
     "name": "stdout",
     "output_type": "stream",
     "text": [
      "[[\"When was the Yale Herald established?\", \"What is the name of the largest denomination of the Presbyterian Church in America?\", \"What fuel is used for the torch?\", \"What is the term used to describe the \\\"Right to collect revenue\\\"?\"], [\"Newspapers include the Yale Daily News, which was first published in 1878, and the weekly Yale Herald, which was first published in 1986.\", \"The nation's largest Presbyterian denomination, the Presbyterian Church (U.S.A.) – PC (USA) – can trace their heritage back to the original PCUSA, as can the Presbyterian Church in America (PCA), the Orthodox Presbyterian Church (OPC), the Bible Presbyterian Church (BPC), the Cumberland Presbyterian Church (CPC), the Cumberland Presbyterian Church in America the Evangelical Presbyterian Church (EPC) and the Evangelical Covenant Order of Presbyterians (ECO).\", \"The torch is fueled by cans of propane.\", \"The development of New Imperialism saw the conquest of nearly all eastern hemisphere territories by colonial powers.\"], [\"entailment\", \"entailment\", \"entailment\", \"not_entailment\"]]\n",
      "l = 0.5635518f0\n",
      "[[\"How many people moved to New York City between April 2010 and July 2014?\", \"Where did children from urban areas primarily work?\", \"What do some people want to do with the people of Tuvalu?\", \"Who conquered the Eastern Provinces of the Byzantine empire?\"], [\"New York City is the most-populous city in the United States, with an estimated record high of 8,491,079 residents as of 2014, incorporating more immigration into the city than outmigration since the 2010 United States Census.\", \"Children who were born in urban areas often found themselves working for street vendors, washing cars, helping in construction sites, weaving clothing, and sometimes even working as exotic dancers.\", \"For Tuvalu I think we really need to mobilise public opinion in the Pacific as well as in the [rest of] world to really talk to their lawmakers to please have some sort of moral obligation and things like that to do the right thing.\\\"\", \"During the Umayyad Dynasty mosaic making remained a flourishing art form in Islamic culture and it is continued in the art of zellige and azulejo in various parts of the Arab world, although tile was to become the main Islamic form of wall decoration.\"], [\"not_entailment\", \"entailment\", \"not_entailment\", \"not_entailment\"]]\n",
      "l = 1.1945615f0\n",
      "[[\"What would Japan accomplish by peace after their early victories?\", \"What are town rights called?\", \"What \\\"ices\\\" makes up Neptune?\", \"What's the Dutch word for \\\"green\\\"?\"], [\"The Japanese leadership looked to base the conduct of the war against America on the historical experiences of the successful wars against China (1894–95) and Russia (1904–05), in both of which a strong continental power was defeated by reaching limited military objectives, not by total conquest.\", \"Cities and towns are municipalities as well, also having city rights or town rights (Stadtrechte).\", \"Like Jupiter and Saturn, Neptune's atmosphere is composed primarily of hydrogen and helium, along with traces of hydrocarbons and possibly nitrogen, but contains a higher proportion of \\\"ices\\\" such as water, ammonia, and methane.\", \"The former take an diminutive ending and thus functions as a noun, the latter remain adverbs and have always the diminutive with the -s appended, e.g. adjective: groen (\\\"green\\\") → noun: groentje (\\\"rookie\\\"); adverb: even (\\\"just\\\") → adverb: eventjes (\\\"just a minute\\\").\"], [\"not_entailment\", \"entailment\", \"entailment\", \"entailment\"]]\n",
      "l = 0.5899076f0\n",
      "[[\"How did Sidney Sheinberg feel about the film \\\"Amblin'\\\"\", \"Which new trend has been associated with the Jewish Renewal movement?\", \"What is the benefit to chickens of being in a free-range farming location?\", \"Who did Joan marry to become queen consort?\"], [\"Studio vice president Sidney Sheinberg was impressed by the film, which had won a number of awards, and offered Spielberg a seven-year directing contract.\", \"In recent years, there has been increased interest in Kabbalah, which many Ashkenazi Jews study outside of the Yeshiva framework.\", \"A more intensive system is yarding, in which the birds have access to a fenced yard and poultry house at a higher stocking rate.\", \"Joan married Alexander II of Scotland to become his queen consort.\"], [\"entailment\", \"not_entailment\", \"not_entailment\", \"entailment\"]]\n",
      "l = 0.86918056f0\n",
      "[[\"What are visitors of Norfolk Island recommended to purchase?\", \"In what city is the Miami Amtrak Station?\", \"When had Tucson last had as much snow as 2013?\", \"How do the olfactory lobes of mammals compare in size to those of reptiles?\"], [\"Although the hospital can perform minor surgery, serious medical conditions are not permitted to be treated on the island and patients are flown back to mainland Australia.\", \"The Miami Amtrak Station is located in the suburb of Hialeah near the Tri-Rail/Metrorail Station on NW 79 St and NW 38 Ave.\", \"The most recent snowfall was on February 20, 2013 when 2.0 inches of snow blanketed the city, the largest snowfall since 1987.\", \"With the arrival of night-active mammals, smell replaced vision as the dominant sense, and a different way of responding arose from the olfactory sense, which is proposed to have developed into mammalian emotion and emotional memory.\"], [\"not_entailment\", \"entailment\", \"entailment\", \"not_entailment\"]]\n",
      "l = 0.9369788f0\n",
      "[[\"How fast are signals produced by antenna transmitted?\", \"What credit did Dowding receive?\", \"What animal did Sumerians use primary to facilitate transportation?\", \"What is ghapama?\"], [\"Antennas are required by any radio receiver or transmitter to couple its electrical connection to the electromagnetic field.\", \"However, Dowding had spent so much effort preparing day fighter defences, there was little to prevent the Germans carrying out an alternative strategy by bombing at night.\", \"They used oxen as their primary beasts of burden and donkeys or equids as their primary transport animal and \\\"woollen clothing as well as rugs were made from the wool or hair of the animals. ...\", \"Arguably the favorite food is khorovats an Armenian-styled barbecue.\"], [\"not_entailment\", \"not_entailment\", \"entailment\", \"not_entailment\"]]\n",
      "l = 1.5284796f0\n",
      "[[\"Who succeeded Newt Gingrich as Speaker?\", \"How many divisions involved in the Allied invasion of Europe did Eisenhower visit?\", \"How many international airports are in Israel?\", \"What are the two main things differentiating Sunni and Shia?\"], [\"In 1998, with Speaker Newt Gingrich announcing his resignation, both Majority Leader Dick Armey and Majority Whip Tom DeLay did not contest the Speakership which eventually went to Chief Deputy Whip Dennis Hastert.\", \"This prompted him to make a point of visiting every division involved in the invasion.\", \"In addition to these, the smaller Port of Eilat is situated on the Red Sea, and is used mainly for trading with Far East countries.\", \"They differ primarily upon of how the life of the ummah (\\\"faithful\\\") should be governed, and the role of the imam.\"], [\"entailment\", \"entailment\", \"not_entailment\", \"entailment\"]]\n",
      "l = 0.5663767f0\n",
      "[[\"The conformal coating can prevent leaking, shorts, and what other type of moisture damage?\", \"The first Ranger mission that didn't fail was which one?\", \"What level was the disaster set at 22:15 CST, May 12?\", \"how do isps provide internet access?\"], [\"PCBs intended for extreme environments often have a conformal coating, which is applied by dipping or spraying after the components have been soldered.\", \"The first successful Ranger mission was the 806-pound\", \"The National Disaster Relief Commission initiated a \\\"Level II emergency contingency plan\\\", which covers the most serious class of natural disasters.\", \"Available technologies have ranged from computer modems with acoustic couplers to telephone lines, to television cable (CATV), wireless Ethernet (wi-fi), and fiber optics.\"], [\"not_entailment\", \"not_entailment\", \"entailment\", \"not_entailment\"]]\n",
      "l = 1.3022188f0\n",
      "[[\"What years were the miners strike?\", \"How many contestants did this season have?\", \"Roughly how many Malians are descendants of slaves?\", \"How did hackers release their software for running Windows on Macs?\"], [\"The miners strike of 1984–85 over coal mine closures, for which miners' leader Arthur Scargill was blamed, and the Wapping dispute led to clashes with the left of the party, and negative coverage in most of the press.\", \"The top 10 contestants started with five males and five females, however, the males were eliminated consecutively in the first five weeks, with Lazaro Arbos the last male to be eliminated.\", \"An estimated 800,000 people in Mali are descended from slaves.\", \"The group released their software as open source and has posted it for download on their website.\"], [\"entailment\", \"entailment\", \"entailment\", \"entailment\"]]\n"
     ]
    },
    {
     "name": "stdout",
     "output_type": "stream",
     "text": [
      "l = 0.31616497f0\n",
      "[[\"What do the Orthodox believe Mary remained to be before and after she gave birth to Christ?\", \"What allies did Nasser meet at the Academy?\", \"Neo-classical music emerged during what era?\", \"When John Hunyadi died, which province was left in chaos?\"], [\"She is also proclaimed as the \\\"Lady of the Angels\\\".\", \"At the academy, he met Abdel Hakim Amer and Anwar Sadat, both of whom became important aides during his presidency.\", \"The high-modern era saw the emergence of neo-classical and serial music.\", \"In an extremely unusual event for the Middle Ages, Hunyadi's son, Matthias, was elected as King of Hungary by the nobility.\"], [\"not_entailment\", \"not_entailment\", \"entailment\", \"not_entailment\"]]\n",
      "l = 1.1544688f0\n"
     ]
    }
   ],
   "source": [
    "for i ∈ 1:10 # epoch of size 10\n",
    "data_batch = get_batch(datas, 4)\n",
    "println(data_batch)\n",
    "data_batch, label_batch = preprocess(data_batch)\n",
    "l = loss(data_batch, label_batch)\n",
    "@show l\n",
    "  grad = gradient(()->l, ps)\n",
    "  update!(opt, ps, grad)\n",
    "end"
   ]
  },
  {
   "cell_type": "code",
   "execution_count": 18,
   "metadata": {},
   "outputs": [
    {
     "name": "stdout",
     "output_type": "stream",
     "text": [
      "[[\"When was the only vice presidential debate held at Washington University?\", \"What other royal figure strongly influenced Frederick William III's decision to go to war with France?\", \"Who did the Cubs send to the New York Yankees for minor leaguer Corey Black?\", \"Who still gives salmon to the abbey today?\"], [\"The university hosted the only 2008 vice presidential debate, between Republican Sarah Palin and Democrat Joe Biden, on October 2, 2008, also at the Washington University Athletic Complex.\", \"At the insistence of his court, especially his wife Queen Louise, Frederick William III decided to challenge the French domination of Central Europe by going to war.\", \"Three days later, the Cubs sent Alfonso Soriano to the New York Yankees for minor leaguer Corey Black.\", \"In the present era, the Fishmonger's Company still gives a salmon every year.\"], [\"entailment\", \"entailment\", \"entailment\", \"entailment\"]]\n",
      "l = 0.19738148f0\n",
      "[[\"What years do many historians consider Atlantic City's golden age?\", \"All modern birds lie within which crown group?\", \"How is most of Thuringia's clean gas consumption carried out?\", \"Shell has minor renewable energy activities in which two areas?\"], [\"The 1920s, with tourism at its peak, are considered by many historians as Atlantic City's golden age.\", \"Depending on the taxonomic viewpoint, the number of known living bird species varies anywhere from 9,800 to 10,050.\", \"Since 2000, the importance of environmentally unfriendly lignite combustion has declined in favour of renewable energies, which reached an amount of 40% (in 2013), and more clean gas combustion, often carried out as Cogeneration in the municipal power stations.\", \"It has minor renewable energy activities in the form of biofuels and wind.\"], [\"entailment\", \"not_entailment\", \"entailment\", \"entailment\"]]\n",
      "l = 0.5627133f0\n",
      "[[\"Who wrote the Decretum?\", \"How many Buddhas are considered to have existed in the Pali Canon?\", \"What genre of film was the movie, Obsessed, in which Beyonce starred in?\", \"What kind of headphones could partially mitigate the bass response issues of the 3rd gen iPods?\"], [\"Canon law was also studied, and around 1140 a monk named Gratian (fl. 12th century), a teacher at Bologna, wrote what became the standard text of canon law—the Decretum.\", \"Buddhists do not consider Siddhartha Gautama to have been the only Buddha.\", \"Beyoncé starred opposite Ali Larter and Idris Elba in the thriller, Obsessed.\", \"The third-generation iPod had a weak bass response, as shown in audio tests.\"], [\"entailment\", \"not_entailment\", \"entailment\", \"not_entailment\"]]\n",
      "l = 0.99301434f0\n",
      "[[\"What did Prince Gong sign?\", \"When was the coldest reported temperature in Houston?\", \"What year of players are in high school football all-star games?\", \"An expert commission was established under which chairman?\"], [\"Once in Beijing, the Anglo-French forces looted the Old Summer Palace, and in an act of revenge for the arrest of several Englishmen, burnt it to the ground.\", \"The coldest temperature officially recorded in Houston was 5 °F (−15 °C) on January 18, 1940.\", \"These games are typically played by graduating seniors during the summer or at the end of the season.\", \"In his investiture address, given on 28 October 1969 in Bonn, Chancellor Willy Brandt proposed that the government would consider Article 29 of the Basic Law as a binding order.\"], [\"not_entailment\", \"entailment\", \"entailment\", \"not_entailment\"]]\n",
      "l = 1.1074492f0\n",
      "[[\"Where is there a growing presence of Theravada?\", \"What is an important Old English religious poem?\", \"abbé Jean Meslier lived from what year to what year?\", \"Tranquilizers affect which of the two common neurotransmitters?\"], [\"Theravāda is primarily practiced today in Sri Lanka, Burma, Laos, Thailand, Cambodia as well as small portions of China, Vietnam, Malaysia and Bangladesh.\", \"Some of the most important surviving works of Old English literature are Beowulf, an epic poem; the Anglo-Saxon Chronicle, a record of early English history; the Franks Casket, an inscribed early whalebone artefact; and Cædmon's Hymn, a Christian religious poem.\", \"There followed the materialist and atheist abbé Jean Meslier (1664-1729), Julien Offray de La Mettrie, the German-French Paul-Henri Thiry Baron d'Holbach (1723-1789), the Encyclopedist Denis Diderot (1713-1784), and other French Enlightenment thinkers; as well as (in England)\", \"The two neurotransmitters that are used most widely in the vertebrate brain are glutamate, which almost always exerts excitatory effects on target neurons, and gamma-aminobutyric acid (GABA), which is almost always inhibitory.\"], [\"not_entailment\", \"entailment\", \"entailment\", \"entailment\"]]\n",
      "l = 0.56293505f0\n",
      "[[\"Who granted money to Eton for a sports complex in 1995?\", \"Along with Roger Miller and Barbra Streisand, who was a successful Easy Listening artist in this era?\", \"What are the three types of origin testing?\", \"Where was the Six Nations Reserve located?\"], [\"The UK Sports Council defended the deal on the grounds that the whole community would benefit, while the bursar claimed that Windsor, Slough and Eton Athletic Club was \\\"deprived\\\" because local people (who were not pupils at the College) did not have a world-class running track and facilities to train with.\", \"Roger Miller, Barbra Streisand and Bobby Vinton were among the chart's most popular performers.\", \"Currently, there are three types of genetic origin testing, autosomal DNA (atDNA), mitochondrial DNA (mtDNA), and Y-chromosomal DNA (Y-DNA).\", \"At the homestead, Bell set up his own workshop in the converted carriage house near to what he called his \\\"dreaming place\\\", a large hollow nestled in trees at the back of the property above the river.\"], [\"not_entailment\", \"entailment\", \"entailment\", \"not_entailment\"]]\n",
      "l = 1.0091068f0\n",
      "[[\"What is a major threat to migratory birds?\", \"In what year did Emperor Kanmu die?\", \"How many Soviet military members died within the first six months of the war between the two countries?\", \"What French family did Victoria try to foster relations with?\"], [\"Threats to migratory birds have grown with habitat destruction especially of stopover and wintering sites, as well as structures such as power lines and wind farms.\", \"Following Kammu's death in 806 and a succession struggle among his sons, two new offices were established in an effort to adjust the Taika-Taihō administrative structure.\", \"After the launch of the invasion, the territories gained by the Soviet Union as a result of the Molotov–Ribbentrop Pact were lost in a matter of weeks.\", \"She made and hosted several visits between the British royal family and the House of Orleans, who were related by marriage through the Coburgs.\"], [\"entailment\", \"entailment\", \"not_entailment\", \"entailment\"]]\n",
      "l = 0.56233615f0\n",
      "[[\"What year was Kanye West's third album released?\", \"What sector puts up most of Southampton's economic contribution?\", \"Vessels of what navy protected convoys?\", \"In what year did Novgorod aquire its own archbishop?\"], [\"The musical evolution arose from him listening to music genres encompassing European Britpop and Euro-disco, American alternative and indie-rock, and his native Chicago house.\", \"The vast majority of this is from the service sector, with the remainder coming from industry in the city.\", \"At Saint Helena ships could replenish supplies of water and provisions, and during war time, form convoys that would sail under the protection of vessels of the Royal Navy.\", \"Since then Novgorod enjoyed a wide degree of autonomy although being closely associated with the Kievan Rus.\"], [\"not_entailment\", \"entailment\", \"entailment\", \"not_entailment\"]]\n",
      "l = 0.77691007f0\n",
      "[[\"Is the name more ancient than other group names in the area ?\", \"What are the most popular religions in Nigeria?\", \"Who are the two major industry employers in Cork?\", \"Which was the most important battle fought in Chihuahua?\"], [\"The name Hellenes seems to be older and it was probably used by the Greeks with the establishment of the Great Amphictyonic League.\", \"Nigerians are nearly equally divided into Christians and Muslims, with a tiny minority of adherents of Animism and other religions.\", \"Its main area of industry is pharmaceuticals, with Pfizer Inc. and Swiss company Novartis being big employers in the region.\", \"Meanwhile, the Mexican forces in the state had time to prepare a defense against the Americans.\"], [\"entailment\", \"not_entailment\", \"entailment\", \"not_entailment\"]]\n"
     ]
    },
    {
     "name": "stdout",
     "output_type": "stream",
     "text": [
      "l = 0.8726212f0\n",
      "[[\"Who termed the slogan \\\"la Ciudad de la Esperanza?\\\"\", \"What is the main material used to build the cellar in the basement of Main Building?\", \"In millimeters, how much precipitation does New York receive a year?\", \"From what dialect is Hindi descended?\"], [\"This motto was quickly adopted as a city nickname, but has faded since the new motto Capital en Movimiento (\\\"Capital in Movement\\\") was adopted by the administration headed by Marcelo Ebrard, though the latter is not treated as often as a nickname in media.\", \"The entire vaulted brick structure of the cellar was encased in steel and concrete and relocated nine feet to the west and nearly 19 feet (5.8 m) deeper in 1949, when construction was resumed at the site after World War II.\", \"Hurricanes and tropical storms are rare in the New York area, but are not unheard of and always have the potential to strike the area.\", \"Sanskrit has greatly influenced the languages of India that grew from its vocabulary and grammatical base; for instance, Hindi is a \\\"Sanskritised register\\\" of the Khariboli dialect.\"], [\"not_entailment\", \"entailment\", \"not_entailment\", \"entailment\"]]\n",
      "l = 1.0041302f0\n"
     ]
    }
   ],
   "source": [
    "for i ∈ 1:10 # epoch of size 10\n",
    "data_batch = get_batch(datas, 4)\n",
    "println(data_batch)\n",
    "data_batch, label_batch = preprocess(data_batch)\n",
    "l = loss(data_batch, label_batch)\n",
    "@show l\n",
    "  grad = gradient(()->l, ps)\n",
    "  update!(opt, ps, grad)\n",
    "end"
   ]
  },
  {
   "cell_type": "code",
   "execution_count": null,
   "metadata": {
    "collapsed": true
   },
   "outputs": [],
   "source": []
  },
  {
   "cell_type": "code",
   "execution_count": null,
   "metadata": {
    "collapsed": true
   },
   "outputs": [],
   "source": []
  }
 ],
 "metadata": {
  "kernelspec": {
   "display_name": "Julia 1.4.2",
   "language": "julia",
   "name": "julia-1.4"
  },
  "language_info": {
   "file_extension": ".jl",
   "mimetype": "application/julia",
   "name": "julia",
   "version": "1.4.2"
  }
 },
 "nbformat": 4,
 "nbformat_minor": 2
}
